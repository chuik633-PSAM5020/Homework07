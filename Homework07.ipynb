{
 "cells": [
  {
   "cell_type": "markdown",
   "metadata": {
    "id": "QshK8s21WBrf"
   },
   "source": [
    "# Homework07\n",
    "\n",
    "Exercises to practice pandas, data analysis and classification\n",
    "\n",
    "## Goals\n",
    "\n",
    "- Understand the effects of pre-processing data\n",
    "- Get familiar with the ML flow: encode -> normalize -> train -> evaluate\n",
    "- Understand the difference between regression and classification tasks\n",
    "- Build an intuition for different classification models"
   ]
  },
  {
   "cell_type": "markdown",
   "metadata": {
    "id": "7Hf8SXUwWOho"
   },
   "source": [
    "### Setup\n",
    "\n",
    "Run the following 2 cells to import all necessary libraries and helpers for this homework."
   ]
  },
  {
   "cell_type": "code",
   "execution_count": 16,
   "metadata": {},
   "outputs": [],
   "source": [
    "!wget -q https://github.com/PSAM-5020-2025S-A/5020-utils/raw/main/src/data_utils.py\n",
    "!wget -q https://github.com/PSAM-5020-2025S-A/5020-utils/raw/main/src/image_utils.py\n",
    "\n",
    "!wget -qO- https://github.com/PSAM-5020-2025S-A/5020-utils/releases/latest/download/0801-500.tar.gz | tar xz"
   ]
  },
  {
   "cell_type": "code",
   "execution_count": 17,
   "metadata": {},
   "outputs": [],
   "source": [
    "import pandas as pd\n",
    "import PIL.Image as PImage\n",
    "\n",
    "from os import listdir, path\n",
    "\n",
    "from data_utils import RandomForestClassifier, SVC\n",
    "from data_utils import classification_error, display_confusion_matrix, regression_error\n",
    "\n",
    "from image_utils import get_pixels, make_image\n",
    "\n",
    "from Homework07_utils import CamUtils"
   ]
  },
  {
   "cell_type": "markdown",
   "metadata": {},
   "source": [
    "## Classification\n",
    "\n",
    "The dataset we are going to use has images from $25$ different security cameras, and our task is to separate them by camera. Some of the cameras move, some of them don't, and there are more than $1000$ images, so there's no way we want to do this by hand.\n",
    "\n",
    "### Loading Data\n",
    "\n",
    "If we look at the images in `./data/image/0801-500/train/`, we'll notice that they are named and organized in a very particular way. They're all in the same directory and the first part of their filename specifies which camera they came from. Even though those `ids` are numbers, they're not sequential, so we'll use some helper functions to extract a unique `label` from their filenames.\n",
    "\n",
    "This is exactly what the `OrdinalEncoder` class does, but since we only have to encode this one column, we'll do it by hand while we read the files in."
   ]
  },
  {
   "cell_type": "code",
   "execution_count": 18,
   "metadata": {},
   "outputs": [],
   "source": [
    "# this creates a list of all the files in a given directory, that end in .jpg\n",
    "train_files = [f for f in listdir(\"./data/image/0801-500/train\") if f.endswith(\".jpg\")]"
   ]
  },
  {
   "cell_type": "code",
   "execution_count": 19,
   "metadata": {
    "tags": [
     "work_cell"
    ]
   },
   "outputs": [
    {
     "name": "stdout",
     "output_type": "stream",
     "text": [
      "num train files 250\n",
      "['31-06.jpg', '25-65.jpg', '18-33.jpg', '22-38.jpg', '05-29.jpg', '25-83.jpg', '19-37.jpg', '27-02.jpg', '12-21.jpg', '05-25.jpg', '07-31.jpg', '18-20.jpg', '13-47.jpg', '26-16.jpg', '03-13.jpg', '18-10.jpg', '12-30.jpg', '10-40.jpg', '21-28.jpg', '22-43.jpg', '10-26.jpg', '25-81.jpg', '28-62.jpg', '17-10.jpg', '27-12.jpg', '26-62.jpg', '13-32.jpg', '03-67.jpg', '08-00.jpg', '18-03.jpg', '05-42.jpg', '13-26.jpg', '22-48.jpg', '17-81.jpg', '09-04.jpg', '17-66.jpg', '01-30.jpg', '31-11.jpg', '09-75.jpg', '31-13.jpg', '17-85.jpg', '22-58.jpg', '24-52.jpg', '19-20.jpg', '31-20.jpg', '23-51.jpg', '18-29.jpg', '26-50.jpg', '15-07.jpg', '25-69.jpg', '06-30.jpg', '13-52.jpg', '05-22.jpg', '13-04.jpg', '15-49.jpg', '15-10.jpg', '21-15.jpg', '12-19.jpg', '05-15.jpg', '05-02.jpg', '06-37.jpg', '02-36.jpg', '27-47.jpg', '10-90.jpg', '01-38.jpg', '02-30.jpg', '28-27.jpg', '27-15.jpg', '27-20.jpg', '23-64.jpg', '25-42.jpg', '11-48.jpg', '19-62.jpg', '01-39.jpg', '06-63.jpg', '03-35.jpg', '11-94.jpg', '07-01.jpg', '10-61.jpg', '31-02.jpg', '08-19.jpg', '19-84.jpg', '28-67.jpg', '27-50.jpg', '15-48.jpg', '08-52.jpg', '06-53.jpg', '15-22.jpg', '22-06.jpg', '27-05.jpg', '01-17.jpg', '03-78.jpg', '12-40.jpg', '02-24.jpg', '12-06.jpg', '21-60.jpg', '03-36.jpg', '07-15.jpg', '05-30.jpg', '07-09.jpg', '15-13.jpg', '23-63.jpg', '13-56.jpg', '25-38.jpg', '28-74.jpg', '05-40.jpg', '09-30.jpg', '21-51.jpg', '08-48.jpg', '27-08.jpg', '19-60.jpg', '24-50.jpg', '15-38.jpg', '18-57.jpg', '06-75.jpg', '08-22.jpg', '06-32.jpg', '26-22.jpg', '11-60.jpg', '02-48.jpg', '19-17.jpg', '12-54.jpg', '23-07.jpg', '11-87.jpg', '06-15.jpg', '19-30.jpg', '03-20.jpg', '07-12.jpg', '10-15.jpg', '25-14.jpg', '11-25.jpg', '12-32.jpg', '15-42.jpg', '13-21.jpg', '01-40.jpg', '23-48.jpg', '03-05.jpg', '31-15.jpg', '09-48.jpg', '19-74.jpg', '28-17.jpg', '31-08.jpg', '01-19.jpg', '12-16.jpg', '12-00.jpg', '06-47.jpg', '02-06.jpg', '21-08.jpg', '23-60.jpg', '11-27.jpg', '03-79.jpg', '23-46.jpg', '05-21.jpg', '02-14.jpg', '09-86.jpg', '23-41.jpg', '24-09.jpg', '02-21.jpg', '21-21.jpg', '11-04.jpg', '26-60.jpg', '07-42.jpg', '22-14.jpg', '25-71.jpg', '24-24.jpg', '31-05.jpg', '27-09.jpg', '24-01.jpg', '18-21.jpg', '08-50.jpg', '18-55.jpg', '23-73.jpg', '19-64.jpg', '09-38.jpg', '07-85.jpg', '26-74.jpg', '26-61.jpg', '27-45.jpg', '13-10.jpg', '17-40.jpg', '31-19.jpg', '08-53.jpg', '25-47.jpg', '28-78.jpg', '22-00.jpg', '24-33.jpg', '18-34.jpg', '18-31.jpg', '28-64.jpg', '26-04.jpg', '13-03.jpg', '21-38.jpg', '09-41.jpg', '05-49.jpg', '28-69.jpg', '08-35.jpg', '03-69.jpg', '10-50.jpg', '11-67.jpg', '11-74.jpg', '13-09.jpg', '24-22.jpg', '09-65.jpg', '15-18.jpg', '21-17.jpg', '28-06.jpg', '01-32.jpg', '02-47.jpg', '07-48.jpg', '22-53.jpg', '23-28.jpg', '08-27.jpg', '25-23.jpg', '24-58.jpg', '28-77.jpg', '09-62.jpg', '01-07.jpg', '17-29.jpg', '17-90.jpg', '02-31.jpg', '09-06.jpg', '26-35.jpg', '24-44.jpg', '17-51.jpg', '03-23.jpg', '10-70.jpg', '19-48.jpg', '08-21.jpg', '07-11.jpg', '06-17.jpg', '17-57.jpg', '22-36.jpg', '10-49.jpg', '21-35.jpg', '07-75.jpg', '06-36.jpg', '17-54.jpg', '24-10.jpg', '26-29.jpg', '11-45.jpg', '15-30.jpg', '01-33.jpg', '12-44.jpg', '01-46.jpg', '22-42.jpg', '21-52.jpg', '02-40.jpg', '31-21.jpg', '10-43.jpg', '10-48.jpg']\n"
     ]
    }
   ],
   "source": [
    "# TODO: check and see what is inside the list here\n",
    "print(\"num train files\", len(train_files))\n",
    "print(train_files)"
   ]
  },
  {
   "cell_type": "markdown",
   "metadata": {},
   "source": [
    "Now we'll read the image pixels and extract their labels. `CamUtils.get_label()` is the helper function we'll use to \"encode\" and return a label id based on the filename."
   ]
  },
  {
   "cell_type": "code",
   "execution_count": 20,
   "metadata": {},
   "outputs": [],
   "source": [
    "pixel_data = []\n",
    "label_data = []\n",
    "\n",
    "for fname in train_files:\n",
    "  label = CamUtils.get_label(fname)\n",
    "  img = PImage.open(path.join(\"./data/image/0801-500/train\", fname))\n",
    "  pixel_data.append(get_pixels(img))\n",
    "  label_data.append(label)"
   ]
  },
  {
   "cell_type": "code",
   "execution_count": 21,
   "metadata": {
    "tags": [
     "work_cell"
    ]
   },
   "outputs": [
    {
     "name": "stdout",
     "output_type": "stream",
     "text": [
      "['31-06.jpg', '25-65.jpg', '18-33.jpg', '22-38.jpg', '05-29.jpg', '25-83.jpg', '19-37.jpg', '27-02.jpg', '12-21.jpg', '05-25.jpg']\n",
      "[24, 20, 14, 17, 3, 20, 15, 22, 10, 3]\n"
     ]
    }
   ],
   "source": [
    "# TODO: check if labels got extracted correctly by looking at \n",
    "#       the first few items of the label list and the filename list\n",
    "print(train_files[:10])\n",
    "print(label_data[:10])\n"
   ]
  },
  {
   "cell_type": "markdown",
   "metadata": {},
   "source": [
    "The labels and the filenames won't match exactly since labels start at $0$ and the filenames start at $01$ and skip some numbers.\n",
    "\n",
    "We can open some images from pixels, just to make sure we loaded them correctly:"
   ]
  },
  {
   "cell_type": "code",
   "execution_count": 22,
   "metadata": {},
   "outputs": [
    {
     "data": {
      "image/jpeg": "[encoded data removed]",
      "image/png": "[encoded data removed]",
      "text/plain": [
       "<PIL.Image.Image image mode=L size=256x256>"
      ]
     },
     "metadata": {},
     "output_type": "display_data"
    },
    {
     "data": {
      "image/jpeg": "[encoded data removed]",
      "image/png": "[encoded data removed]",
      "text/plain": [
       "<PIL.Image.Image image mode=L size=256x256>"
      ]
     },
     "metadata": {},
     "output_type": "display_data"
    }
   ],
   "source": [
    "display(make_image(pixel_data[0]))\n",
    "display(make_image(pixel_data[10]))"
   ]
  },
  {
   "cell_type": "markdown",
   "metadata": {},
   "source": [
    "And now might not be a bad time to peek into the `data/image/0801-500/` directories to see what's inside them and what the images look like.... and get to know the data..."
   ]
  },
  {
   "cell_type": "markdown",
   "metadata": {},
   "source": [
    "### DataFrame it\n",
    "\n",
    "Let's put our raw pixel data into a `DataFrame`, and create a column for storing each image's label.\n",
    "\n",
    "(this next cell might take a while to run)"
   ]
  },
  {
   "cell_type": "code",
   "execution_count": 23,
   "metadata": {},
   "outputs": [],
   "source": [
    "train_df = pd.DataFrame(pixel_data)\n",
    "train_df[\"label\"] = label_data"
   ]
  },
  {
   "cell_type": "markdown",
   "metadata": {},
   "source": [
    "Let's inspect our `DataFrame`:"
   ]
  },
  {
   "cell_type": "code",
   "execution_count": 24,
   "metadata": {},
   "outputs": [
    {
     "data": {
      "text/html": [
       "<div>\n",
       "<style scoped>\n",
       "    .dataframe tbody tr th:only-of-type {\n",
       "        vertical-align: middle;\n",
       "    }\n",
       "\n",
       "    .dataframe tbody tr th {\n",
       "        vertical-align: top;\n",
       "    }\n",
       "\n",
       "    .dataframe thead th {\n",
       "        text-align: right;\n",
       "    }\n",
       "</style>\n",
       "<table border=\"1\" class=\"dataframe\">\n",
       "  <thead>\n",
       "    <tr style=\"text-align: right;\">\n",
       "      <th></th>\n",
       "      <th>0</th>\n",
       "      <th>1</th>\n",
       "      <th>2</th>\n",
       "      <th>3</th>\n",
       "      <th>4</th>\n",
       "      <th>5</th>\n",
       "      <th>6</th>\n",
       "      <th>7</th>\n",
       "      <th>8</th>\n",
       "      <th>9</th>\n",
       "      <th>...</th>\n",
       "      <th>65527</th>\n",
       "      <th>65528</th>\n",
       "      <th>65529</th>\n",
       "      <th>65530</th>\n",
       "      <th>65531</th>\n",
       "      <th>65532</th>\n",
       "      <th>65533</th>\n",
       "      <th>65534</th>\n",
       "      <th>65535</th>\n",
       "      <th>label</th>\n",
       "    </tr>\n",
       "  </thead>\n",
       "  <tbody>\n",
       "    <tr>\n",
       "      <th>0</th>\n",
       "      <td>77</td>\n",
       "      <td>79</td>\n",
       "      <td>82</td>\n",
       "      <td>86</td>\n",
       "      <td>89</td>\n",
       "      <td>94</td>\n",
       "      <td>100</td>\n",
       "      <td>105</td>\n",
       "      <td>112</td>\n",
       "      <td>104</td>\n",
       "      <td>...</td>\n",
       "      <td>67</td>\n",
       "      <td>66</td>\n",
       "      <td>65</td>\n",
       "      <td>64</td>\n",
       "      <td>62</td>\n",
       "      <td>61</td>\n",
       "      <td>62</td>\n",
       "      <td>65</td>\n",
       "      <td>67</td>\n",
       "      <td>24</td>\n",
       "    </tr>\n",
       "    <tr>\n",
       "      <th>1</th>\n",
       "      <td>42</td>\n",
       "      <td>46</td>\n",
       "      <td>45</td>\n",
       "      <td>40</td>\n",
       "      <td>37</td>\n",
       "      <td>39</td>\n",
       "      <td>40</td>\n",
       "      <td>38</td>\n",
       "      <td>39</td>\n",
       "      <td>41</td>\n",
       "      <td>...</td>\n",
       "      <td>124</td>\n",
       "      <td>119</td>\n",
       "      <td>120</td>\n",
       "      <td>120</td>\n",
       "      <td>118</td>\n",
       "      <td>115</td>\n",
       "      <td>112</td>\n",
       "      <td>110</td>\n",
       "      <td>109</td>\n",
       "      <td>20</td>\n",
       "    </tr>\n",
       "    <tr>\n",
       "      <th>2</th>\n",
       "      <td>138</td>\n",
       "      <td>168</td>\n",
       "      <td>174</td>\n",
       "      <td>174</td>\n",
       "      <td>206</td>\n",
       "      <td>214</td>\n",
       "      <td>230</td>\n",
       "      <td>227</td>\n",
       "      <td>166</td>\n",
       "      <td>130</td>\n",
       "      <td>...</td>\n",
       "      <td>36</td>\n",
       "      <td>26</td>\n",
       "      <td>26</td>\n",
       "      <td>26</td>\n",
       "      <td>25</td>\n",
       "      <td>25</td>\n",
       "      <td>24</td>\n",
       "      <td>24</td>\n",
       "      <td>24</td>\n",
       "      <td>14</td>\n",
       "    </tr>\n",
       "    <tr>\n",
       "      <th>3</th>\n",
       "      <td>135</td>\n",
       "      <td>135</td>\n",
       "      <td>135</td>\n",
       "      <td>135</td>\n",
       "      <td>135</td>\n",
       "      <td>135</td>\n",
       "      <td>135</td>\n",
       "      <td>135</td>\n",
       "      <td>136</td>\n",
       "      <td>136</td>\n",
       "      <td>...</td>\n",
       "      <td>175</td>\n",
       "      <td>171</td>\n",
       "      <td>169</td>\n",
       "      <td>166</td>\n",
       "      <td>164</td>\n",
       "      <td>163</td>\n",
       "      <td>160</td>\n",
       "      <td>156</td>\n",
       "      <td>153</td>\n",
       "      <td>17</td>\n",
       "    </tr>\n",
       "    <tr>\n",
       "      <th>4</th>\n",
       "      <td>162</td>\n",
       "      <td>171</td>\n",
       "      <td>178</td>\n",
       "      <td>223</td>\n",
       "      <td>218</td>\n",
       "      <td>222</td>\n",
       "      <td>232</td>\n",
       "      <td>236</td>\n",
       "      <td>228</td>\n",
       "      <td>209</td>\n",
       "      <td>...</td>\n",
       "      <td>135</td>\n",
       "      <td>132</td>\n",
       "      <td>133</td>\n",
       "      <td>135</td>\n",
       "      <td>135</td>\n",
       "      <td>134</td>\n",
       "      <td>134</td>\n",
       "      <td>135</td>\n",
       "      <td>137</td>\n",
       "      <td>3</td>\n",
       "    </tr>\n",
       "  </tbody>\n",
       "</table>\n",
       "<p>5 rows × 65537 columns</p>\n",
       "</div>"
      ],
      "text/plain": [
       "     0    1    2    3    4    5    6    7    8    9  ...  65527  65528  65529  \\\n",
       "0   77   79   82   86   89   94  100  105  112  104  ...     67     66     65   \n",
       "1   42   46   45   40   37   39   40   38   39   41  ...    124    119    120   \n",
       "2  138  168  174  174  206  214  230  227  166  130  ...     36     26     26   \n",
       "3  135  135  135  135  135  135  135  135  136  136  ...    175    171    169   \n",
       "4  162  171  178  223  218  222  232  236  228  209  ...    135    132    133   \n",
       "\n",
       "   65530  65531  65532  65533  65534  65535  label  \n",
       "0     64     62     61     62     65     67     24  \n",
       "1    120    118    115    112    110    109     20  \n",
       "2     26     25     25     24     24     24     14  \n",
       "3    166    164    163    160    156    153     17  \n",
       "4    135    135    134    134    135    137      3  \n",
       "\n",
       "[5 rows x 65537 columns]"
      ]
     },
     "execution_count": 24,
     "metadata": {},
     "output_type": "execute_result"
    }
   ],
   "source": [
    "train_df.head()"
   ]
  },
  {
   "cell_type": "markdown",
   "metadata": {},
   "source": [
    "### Insight\n",
    "\n",
    "<span style=\"color:hotpink\">\n",
    "Does anything stand out as peculiar about the feature values in our <code>DataFrame</code>?<br>\n",
    "Do we have to encode or scale our data?<br>\n",
    "Why? Or, why not?<br>\n",
    "</span>"
   ]
  },
  {
   "cell_type": "markdown",
   "metadata": {
    "tags": [
     "work_cell"
    ]
   },
   "source": [
    "<span style=\"color:green;\">Observations: The data has many features all of which are numerical and integers. Since they all correspond to colors/values (i think) that they are all between 255 and 0. I'm not sure what this means about scaling, it might help to change them to all be within the range 0 to 1. The labels are numbers but different as they correspond to categories which should be ordinally encoded.</span>"
   ]
  },
  {
   "cell_type": "markdown",
   "metadata": {},
   "source": [
    "### Test Files\n",
    "\n",
    "If that worked, repeat the process for the test files inside the `./data/image/0801-500/test/` directory.\n",
    "\n",
    "We can almost use the exact same steps as we did above to create a `DataFrame`, the only difference being that we don't have labels for these images."
   ]
  },
  {
   "cell_type": "code",
   "execution_count": 31,
   "metadata": {
    "tags": [
     "work_cell"
    ]
   },
   "outputs": [
    {
     "name": "stdout",
     "output_type": "stream",
     "text": [
      "1573\n",
      "['11037726.jpg', '8252912.jpg', '6019944.jpg', '15653049.jpg', '12867500.jpg', '12321879.jpg', '13479893.jpg', '8049463.jpg', '5907048.jpg', '11114838.jpg']\n",
      "1573\n"
     ]
    }
   ],
   "source": [
    "# TODO: create a list of files in the test/ directory\n",
    "test_files = [f for f in listdir(\"./data/image/0801-500/test\") if f.endswith('.jpg')]\n",
    "\n",
    "# TODO: check its length and content\n",
    "print(len(test_files))\n",
    "print(test_files[:10])\n",
    "\n",
    "test_pixel_data = []\n",
    "\n",
    "# TODO: loop over files and load their pixels into a list\n",
    "for fname in test_files:\n",
    "    img = PImage.open(path.join(\"./data/image/0801-500/test\", fname))\n",
    "    test_pixel_data.append(get_pixels(img))\n",
    "\n",
    "# TODO: load into DataFrame (this might take 20 - 30 seconds)\n",
    "test_df = pd.DataFrame(test_pixel_data)\n",
    "print(len(test_pixel_data))"
   ]
  },
  {
   "cell_type": "markdown",
   "metadata": {},
   "source": [
    "Check the `DataFrame`"
   ]
  },
  {
   "cell_type": "code",
   "execution_count": 26,
   "metadata": {},
   "outputs": [
    {
     "data": {
      "text/html": [
       "<div>\n",
       "<style scoped>\n",
       "    .dataframe tbody tr th:only-of-type {\n",
       "        vertical-align: middle;\n",
       "    }\n",
       "\n",
       "    .dataframe tbody tr th {\n",
       "        vertical-align: top;\n",
       "    }\n",
       "\n",
       "    .dataframe thead th {\n",
       "        text-align: right;\n",
       "    }\n",
       "</style>\n",
       "<table border=\"1\" class=\"dataframe\">\n",
       "  <thead>\n",
       "    <tr style=\"text-align: right;\">\n",
       "      <th></th>\n",
       "      <th>0</th>\n",
       "      <th>1</th>\n",
       "      <th>2</th>\n",
       "      <th>3</th>\n",
       "      <th>4</th>\n",
       "      <th>5</th>\n",
       "      <th>6</th>\n",
       "      <th>7</th>\n",
       "      <th>8</th>\n",
       "      <th>9</th>\n",
       "      <th>...</th>\n",
       "      <th>65526</th>\n",
       "      <th>65527</th>\n",
       "      <th>65528</th>\n",
       "      <th>65529</th>\n",
       "      <th>65530</th>\n",
       "      <th>65531</th>\n",
       "      <th>65532</th>\n",
       "      <th>65533</th>\n",
       "      <th>65534</th>\n",
       "      <th>65535</th>\n",
       "    </tr>\n",
       "  </thead>\n",
       "  <tbody>\n",
       "    <tr>\n",
       "      <th>0</th>\n",
       "      <td>127</td>\n",
       "      <td>127</td>\n",
       "      <td>127</td>\n",
       "      <td>127</td>\n",
       "      <td>127</td>\n",
       "      <td>127</td>\n",
       "      <td>127</td>\n",
       "      <td>127</td>\n",
       "      <td>127</td>\n",
       "      <td>127</td>\n",
       "      <td>...</td>\n",
       "      <td>130</td>\n",
       "      <td>130</td>\n",
       "      <td>130</td>\n",
       "      <td>130</td>\n",
       "      <td>130</td>\n",
       "      <td>130</td>\n",
       "      <td>130</td>\n",
       "      <td>130</td>\n",
       "      <td>130</td>\n",
       "      <td>130</td>\n",
       "    </tr>\n",
       "    <tr>\n",
       "      <th>1</th>\n",
       "      <td>58</td>\n",
       "      <td>59</td>\n",
       "      <td>60</td>\n",
       "      <td>62</td>\n",
       "      <td>66</td>\n",
       "      <td>71</td>\n",
       "      <td>75</td>\n",
       "      <td>77</td>\n",
       "      <td>72</td>\n",
       "      <td>73</td>\n",
       "      <td>...</td>\n",
       "      <td>190</td>\n",
       "      <td>194</td>\n",
       "      <td>198</td>\n",
       "      <td>188</td>\n",
       "      <td>184</td>\n",
       "      <td>188</td>\n",
       "      <td>191</td>\n",
       "      <td>187</td>\n",
       "      <td>183</td>\n",
       "      <td>183</td>\n",
       "    </tr>\n",
       "    <tr>\n",
       "      <th>2</th>\n",
       "      <td>51</td>\n",
       "      <td>55</td>\n",
       "      <td>46</td>\n",
       "      <td>58</td>\n",
       "      <td>65</td>\n",
       "      <td>64</td>\n",
       "      <td>71</td>\n",
       "      <td>62</td>\n",
       "      <td>62</td>\n",
       "      <td>63</td>\n",
       "      <td>...</td>\n",
       "      <td>80</td>\n",
       "      <td>79</td>\n",
       "      <td>80</td>\n",
       "      <td>83</td>\n",
       "      <td>85</td>\n",
       "      <td>85</td>\n",
       "      <td>81</td>\n",
       "      <td>78</td>\n",
       "      <td>78</td>\n",
       "      <td>79</td>\n",
       "    </tr>\n",
       "    <tr>\n",
       "      <th>3</th>\n",
       "      <td>138</td>\n",
       "      <td>123</td>\n",
       "      <td>55</td>\n",
       "      <td>114</td>\n",
       "      <td>135</td>\n",
       "      <td>61</td>\n",
       "      <td>61</td>\n",
       "      <td>44</td>\n",
       "      <td>58</td>\n",
       "      <td>68</td>\n",
       "      <td>...</td>\n",
       "      <td>175</td>\n",
       "      <td>176</td>\n",
       "      <td>175</td>\n",
       "      <td>175</td>\n",
       "      <td>175</td>\n",
       "      <td>176</td>\n",
       "      <td>176</td>\n",
       "      <td>177</td>\n",
       "      <td>177</td>\n",
       "      <td>177</td>\n",
       "    </tr>\n",
       "    <tr>\n",
       "      <th>4</th>\n",
       "      <td>99</td>\n",
       "      <td>99</td>\n",
       "      <td>99</td>\n",
       "      <td>99</td>\n",
       "      <td>99</td>\n",
       "      <td>99</td>\n",
       "      <td>99</td>\n",
       "      <td>99</td>\n",
       "      <td>100</td>\n",
       "      <td>100</td>\n",
       "      <td>...</td>\n",
       "      <td>152</td>\n",
       "      <td>151</td>\n",
       "      <td>151</td>\n",
       "      <td>151</td>\n",
       "      <td>152</td>\n",
       "      <td>152</td>\n",
       "      <td>151</td>\n",
       "      <td>151</td>\n",
       "      <td>150</td>\n",
       "      <td>149</td>\n",
       "    </tr>\n",
       "  </tbody>\n",
       "</table>\n",
       "<p>5 rows × 65536 columns</p>\n",
       "</div>"
      ],
      "text/plain": [
       "   0      1      2      3      4      5      6      7      8      9      ...  \\\n",
       "0    127    127    127    127    127    127    127    127    127    127  ...   \n",
       "1     58     59     60     62     66     71     75     77     72     73  ...   \n",
       "2     51     55     46     58     65     64     71     62     62     63  ...   \n",
       "3    138    123     55    114    135     61     61     44     58     68  ...   \n",
       "4     99     99     99     99     99     99     99     99    100    100  ...   \n",
       "\n",
       "   65526  65527  65528  65529  65530  65531  65532  65533  65534  65535  \n",
       "0    130    130    130    130    130    130    130    130    130    130  \n",
       "1    190    194    198    188    184    188    191    187    183    183  \n",
       "2     80     79     80     83     85     85     81     78     78     79  \n",
       "3    175    176    175    175    175    176    176    177    177    177  \n",
       "4    152    151    151    151    152    152    151    151    150    149  \n",
       "\n",
       "[5 rows x 65536 columns]"
      ]
     },
     "execution_count": 26,
     "metadata": {},
     "output_type": "execute_result"
    }
   ],
   "source": [
    "test_df.head()"
   ]
  },
  {
   "cell_type": "markdown",
   "metadata": {},
   "source": [
    "Looks like data!!\n",
    "\n",
    "We could train a `RandomForestClassifier` directly on this `DataFrame` and see what would happen, but my guess is that Python runs out of memory and crashes our tab/browser/computer...\n",
    "\n",
    "We'll use _projection_ to reduce the number of dimensions in our dataset. Projection is when we just drop some of the columns in our dataset. \n",
    "\n",
    "Which columns ? That's up to us.\n",
    "\n",
    "Let's first try using the first $N$ columns/features where $N$ is a number around $10$.\n",
    "\n",
    "This is how we get the first $N$ columns from a `DataFrame`:"
   ]
  },
  {
   "cell_type": "code",
   "execution_count": 27,
   "metadata": {},
   "outputs": [],
   "source": [
    "# split input and output features\n",
    "NUM_FEATURES = 10\n",
    "chosen_columns = train_df.columns[:NUM_FEATURES]\n",
    "train_features = train_df[chosen_columns]\n",
    "\n",
    "out_features = train_df[\"label\"]\n",
    "\n",
    "# also separate test dataset features\n",
    "test_features = test_df[chosen_columns]"
   ]
  },
  {
   "cell_type": "markdown",
   "metadata": {},
   "source": [
    "From our [Week 07](https://github.com/PSAM-5020-2025S-A/WK07) notebook, we can create a classification model by following these steps:\n",
    "\n",
    "1. Load dataset (done! 🎉)\n",
    "2. Encode label features as numbers (not needed! done! ⚡️)\n",
    "3. Normalize the data (not needed! done! 🍾)\n",
    "4. Separate the outcome variable and the input features (done! ☀️)\n",
    "5. Create a model using chosen features\n",
    "6. Run model on training data and measure error*\n",
    "7. Run model on test data, measure error*, plot predictions, interpret results\n",
    "\n",
    "We could use the same `regression_error()` function we used above to measure the error of our classifier model, but this could lead to $2$ issues. First, we don't have labels for the images in the test dataset, and second, the regression error reported might be higher than it actually is because an image with label $0$ that gets mislabeled as $5$ will count as being more wrong than if it was mislabeled $2$. And we don't want that. We just want to get the percentage of classifications that our model gets correctly.\n",
    "\n",
    "To simplify calculating the classification accuracy we can use the `CamUtils.classification_accuracy()` function. This function takes $2$ parameters, a list of files and a list of predictions. It will work with the test and train datasets and will calculate a more meaningful accuracy value than the one returned by `regression_error()`."
   ]
  },
  {
   "cell_type": "code",
   "execution_count": 34,
   "metadata": {
    "tags": [
     "work_cell"
    ]
   },
   "outputs": [
    {
     "data": {
      "text/plain": [
       "1.0"
      ]
     },
     "execution_count": 34,
     "metadata": {},
     "output_type": "execute_result"
    }
   ],
   "source": [
    "# TODO: create a brand new classifier\n",
    "model_rf = RandomForestClassifier()\n",
    "\n",
    "# TODO: fit the model\n",
    "model_rf.fit(train_features, out_features)\n",
    "\n",
    "# TODO: run predictions\n",
    "train_predictions= model_rf.predict(train_features)\n",
    "\n",
    "# TODO: measure classification accuracy\n",
    "CamUtils.classification_accuracy(train_files, train_predictions)"
   ]
  },
  {
   "cell_type": "code",
   "execution_count": null,
   "metadata": {},
   "outputs": [
    {
     "data": {
      "text/plain": [
       "0.84"
      ]
     },
     "execution_count": 35,
     "metadata": {},
     "output_type": "execute_result"
    }
   ],
   "source": [
    "model_sv = SVC()\n",
    "\n",
    "model_sv.fit(train_features, out_features)\n",
    "\n",
    "train_predictions= model_sv.predict(train_features)\n",
    "\n",
    "CamUtils.classification_accuracy(train_files, train_predictions)"
   ]
  },
  {
   "cell_type": "markdown",
   "metadata": {},
   "source": [
    "That should look promising. Let's run this on our test dataset.\n",
    "\n",
    "Remember we already separated the test data features into a variable called `test_features` above.\n",
    "\n",
    "Now we just have to run the prediction and measure accuracy."
   ]
  },
  {
   "cell_type": "code",
   "execution_count": 37,
   "metadata": {
    "tags": [
     "work_cell"
    ]
   },
   "outputs": [
    {
     "name": "stdout",
     "output_type": "stream",
     "text": [
      "0.6497139224411952\n",
      "0.6007628734901462\n"
     ]
    }
   ],
   "source": [
    "# TODO: run predictions on test data\n",
    "test_predictions = model_rf.predict(test_features)\n",
    "\n",
    "# TODO: measure classification accuracy\n",
    "print(CamUtils.classification_accuracy(test_files,test_predictions ))\n",
    "\n",
    "#svc model\n",
    "test_predictions = model_sv.predict(test_features)\n",
    "print(CamUtils.classification_accuracy(test_files,test_predictions ))"
   ]
  },
  {
   "cell_type": "markdown",
   "metadata": {},
   "source": [
    "### Interpretation\n",
    "\n",
    "Using just the first $10$ pixels of the image the classifier is able to label most of the images correctly.\n",
    "\n",
    "<span style=\"color:hotpink\">\n",
    "How can we improve this classifier? How does the number of features affect the classification accuracy of the test data<br>\n",
    "How does the choice of pixels affect the accuracy?<br><br>\n",
    "If you're curious, repeat the modeling above, but using the <code>SVC</code> classifier instead of <code>RandomForest</code>.<br>How does the choice of modeling technique affect the accuracy?<br><br>\n",
    "Experiment with some of these parameters and explain your findings below.\n",
    "</span>"
   ]
  },
  {
   "cell_type": "markdown",
   "metadata": {
    "tags": [
     "work_cell"
    ]
   },
   "source": [
    "<span style=\"color:green;\">We could use more features to improve the classifier. This will most likely improve our training accuracy, however, it could make it less good at generalizing and eventually lead to a lower testing accuracy. Instead of just taking the first 10 features, we could spread the chosen features out.</span>"
   ]
  }
 ],
 "metadata": {
  "colab": {
   "authorship_tag": "ABX9TyPxe2qYxIG7EblrvD1C4Pmv",
   "provenance": []
  },
  "kernelspec": {
   "display_name": "Python 3",
   "language": "python",
   "name": "python3"
  },
  "language_info": {
   "codemirror_mode": {
    "name": "ipython",
    "version": 3
   },
   "file_extension": ".py",
   "mimetype": "text/x-python",
   "name": "python",
   "nbconvert_exporter": "python",
   "pygments_lexer": "ipython3",
   "version": "3.10.16"
  }
 },
 "nbformat": 4,
 "nbformat_minor": 0
}
